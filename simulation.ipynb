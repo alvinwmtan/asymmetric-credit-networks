{
 "cells": [
  {
   "cell_type": "code",
   "execution_count": 78,
   "metadata": {},
   "outputs": [],
   "source": [
    "import numpy as np\n",
    "import pandas as pd\n",
    "import random\n",
    "from collections import deque\n",
    "\n",
    "random.seed(261)"
   ]
  },
  {
   "cell_type": "code",
   "execution_count": 17,
   "metadata": {},
   "outputs": [],
   "source": [
    "def initialise_cycle(size):\n",
    "    state = np.zeros((size, size), dtype=int)\n",
    "\n",
    "    for i in range(size):\n",
    "        if random.random() > 0.5:\n",
    "            state[i, (i+1)%size] = 1\n",
    "        else:\n",
    "            state[(i+1)%size, i] = 1\n",
    "    \n",
    "    return state"
   ]
  },
  {
   "cell_type": "code",
   "execution_count": 18,
   "metadata": {},
   "outputs": [],
   "source": [
    "def get_gen_score_vec(state):\n",
    "    return np.sum(state, axis=1)"
   ]
  },
  {
   "cell_type": "code",
   "execution_count": 19,
   "metadata": {},
   "outputs": [],
   "source": [
    "def sample_transition(transition_matrix):\n",
    "    size = transition_matrix.shape[0]\n",
    "    idxs = np.array([(i, j) for i in range(size) for j in range(size)], dtype=\"i,i\").astype(object)\n",
    "    return np.random.choice(idxs, p=np.ravel(transition_matrix))"
   ]
  },
  {
   "cell_type": "code",
   "execution_count": 20,
   "metadata": {},
   "outputs": [],
   "source": [
    "def bfs(state, source, target):\n",
    "    visited = [target]\n",
    "    queue = deque([[target]])\n",
    "\n",
    "    while queue:\n",
    "        cur_node = queue.popleft()\n",
    "        # print(cur_node)\n",
    "        last_visited = cur_node[-1]\n",
    "        if last_visited == source:\n",
    "            return cur_node\n",
    "\n",
    "        for neighbour in np.nonzero(np.atleast_1d(np.asarray(state[last_visited] > 0)))[0]:\n",
    "            if neighbour not in visited:\n",
    "                visited.append(neighbour)\n",
    "                queue.append(cur_node + [neighbour])\n",
    "                # print(queue)\n",
    "    \n",
    "    return None"
   ]
  },
  {
   "cell_type": "code",
   "execution_count": 21,
   "metadata": {},
   "outputs": [],
   "source": [
    "def do_transaction(state, solution):\n",
    "    if len(solution) > 1:\n",
    "        for (s, t) in zip(solution[:-1], solution[1:]):\n",
    "            state[s, t] -= 1\n",
    "            state[t, s] += 1\n",
    "    return state"
   ]
  },
  {
   "cell_type": "code",
   "execution_count": 22,
   "metadata": {},
   "outputs": [],
   "source": [
    "transition_matrix = np.array([[0, 1/3, 0], [0, 0, 1/3], [1/3, 0, 0]])"
   ]
  },
  {
   "cell_type": "code",
   "execution_count": 23,
   "metadata": {},
   "outputs": [],
   "source": [
    "NUM_SIMS = 100\n",
    "NUM_ITERS = 10000"
   ]
  },
  {
   "cell_type": "code",
   "execution_count": 24,
   "metadata": {},
   "outputs": [],
   "source": [
    "NUM_NODES = 3"
   ]
  },
  {
   "cell_type": "code",
   "execution_count": 25,
   "metadata": {},
   "outputs": [
    {
     "name": "stdout",
     "output_type": "stream",
     "text": [
      "Sim 050\n",
      "Sim 100\n"
     ]
    }
   ],
   "source": [
    "all_sims = []\n",
    "\n",
    "for i in range(NUM_SIMS):\n",
    "    if (i+1)%50 == 0:\n",
    "        print(f\"Sim {(i+1):03d}\")\n",
    "\n",
    "    state = initialise_cycle(NUM_NODES)\n",
    "\n",
    "    all_states = [state.copy()]\n",
    "    for i in range(NUM_ITERS):\n",
    "        # if (i+1)%1000 == 0:\n",
    "        #     print(f\"Iter {(i+1):05d}\")\n",
    "        (source, target) = sample_transition(transition_matrix)\n",
    "        soln = bfs(state, source, target)\n",
    "        if soln is None:\n",
    "            all_states.append(state.copy())\n",
    "        else:\n",
    "            new_state = do_transaction(state, soln)\n",
    "            all_states.append(new_state.copy())\n",
    "            state = new_state\n",
    "    \n",
    "    all_sims.append(all_states)"
   ]
  },
  {
   "cell_type": "code",
   "execution_count": 49,
   "metadata": {},
   "outputs": [],
   "source": [
    "all_freqs = [dict(zip(*np.unique([np.array_str(get_gen_score_vec(s)) for s in states], return_counts = True))) for states in all_sims]"
   ]
  },
  {
   "cell_type": "code",
   "execution_count": 72,
   "metadata": {},
   "outputs": [],
   "source": [
    "vec_list = ['[1 1 1]',\n",
    "            '[0 2 1]',\n",
    "            '[2 1 0]',\n",
    "            '[1 0 2]',\n",
    "            '[2 0 1]',\n",
    "            '[0 1 2]',\n",
    "            '[1 2 0]']"
   ]
  },
  {
   "cell_type": "code",
   "execution_count": 70,
   "metadata": {},
   "outputs": [],
   "source": [
    "def get_cumprops(states):\n",
    "    gen_score_vecs = np.array([np.array_str(get_gen_score_vec(s)) for s in states])\n",
    "    vals = [(gen_score_vecs == v).astype(int) for v in vec_list]\n",
    "    cum_vals = [np.divide(np.cumsum(v), (range(1,NUM_ITERS+2))) for v in vals]\n",
    "    return cum_vals"
   ]
  },
  {
   "cell_type": "code",
   "execution_count": 91,
   "metadata": {},
   "outputs": [],
   "source": [
    "def make_long(cumprop, i):\n",
    "    df = pd.DataFrame(dict(zip(vec_list, cumprop)))\n",
    "    df[\"iter\"] = df.index\n",
    "    long = pd.melt(df, id_vars=\"iter\")\n",
    "    long[\"sim\"] = i\n",
    "    return long"
   ]
  },
  {
   "cell_type": "code",
   "execution_count": 73,
   "metadata": {},
   "outputs": [],
   "source": [
    "all_freqs = [get_cumprops(states) for states in all_sims]"
   ]
  },
  {
   "cell_type": "code",
   "execution_count": 97,
   "metadata": {},
   "outputs": [],
   "source": [
    "all_longs = pd.concat([make_long(cumprop, i) for (i, cumprop) in enumerate(all_freqs)])"
   ]
  },
  {
   "cell_type": "code",
   "execution_count": null,
   "metadata": {},
   "outputs": [],
   "source": [
    "all_longs.to_csv(\"all_longs.csv\")"
   ]
  }
 ],
 "metadata": {
  "kernelspec": {
   "display_name": "cs330hw0",
   "language": "python",
   "name": "python3"
  },
  "language_info": {
   "codemirror_mode": {
    "name": "ipython",
    "version": 3
   },
   "file_extension": ".py",
   "mimetype": "text/x-python",
   "name": "python",
   "nbconvert_exporter": "python",
   "pygments_lexer": "ipython3",
   "version": "3.10.6"
  }
 },
 "nbformat": 4,
 "nbformat_minor": 2
}
