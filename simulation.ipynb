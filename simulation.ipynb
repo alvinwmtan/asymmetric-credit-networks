{
 "cells": [
  {
   "cell_type": "code",
   "execution_count": 1,
   "metadata": {},
   "outputs": [],
   "source": [
    "import numpy as np\n",
    "import pandas as pd\n",
    "import random\n",
    "from collections import deque\n",
    "\n",
    "random.seed(261)"
   ]
  },
  {
   "cell_type": "code",
   "execution_count": 2,
   "metadata": {},
   "outputs": [],
   "source": [
    "def initialise_cycle(size):\n",
    "    state = np.zeros((size, size), dtype=int)\n",
    "\n",
    "    for i in range(size):\n",
    "        if random.random() > 0.5:\n",
    "            state[i, (i+1)%size] = 1\n",
    "        else:\n",
    "            state[(i+1)%size, i] = 1\n",
    "    \n",
    "    return state"
   ]
  },
  {
   "cell_type": "code",
   "execution_count": 3,
   "metadata": {},
   "outputs": [],
   "source": [
    "def get_gen_score_vec(state):\n",
    "    return np.sum(state, axis=1)"
   ]
  },
  {
   "cell_type": "code",
   "execution_count": 4,
   "metadata": {},
   "outputs": [],
   "source": [
    "def sample_transition(transition_matrix):\n",
    "    size = transition_matrix.shape[0]\n",
    "    idxs = np.array([(i, j) for i in range(size) for j in range(size)], dtype=\"i,i\").astype(object)\n",
    "    return np.random.choice(idxs, p=np.ravel(transition_matrix))"
   ]
  },
  {
   "cell_type": "code",
   "execution_count": 5,
   "metadata": {},
   "outputs": [],
   "source": [
    "def bfs(state, source, target):\n",
    "    visited = [target]\n",
    "    queue = deque([[target]])\n",
    "\n",
    "    while queue:\n",
    "        cur_node = queue.popleft()\n",
    "        # print(cur_node)\n",
    "        last_visited = cur_node[-1]\n",
    "        if last_visited == source:\n",
    "            return cur_node\n",
    "\n",
    "        for neighbour in np.nonzero(np.atleast_1d(np.asarray(state[last_visited] > 0)))[0]:\n",
    "            if neighbour not in visited:\n",
    "                visited.append(neighbour)\n",
    "                queue.append(cur_node + [neighbour])\n",
    "                # print(queue)\n",
    "    \n",
    "    return None"
   ]
  },
  {
   "cell_type": "code",
   "execution_count": 6,
   "metadata": {},
   "outputs": [],
   "source": [
    "def do_transaction(state, solution):\n",
    "    if len(solution) > 1:\n",
    "        for (s, t) in zip(solution[:-1], solution[1:]):\n",
    "            state[s, t] -= 1\n",
    "            state[t, s] += 1\n",
    "    return state"
   ]
  },
  {
   "cell_type": "code",
   "execution_count": 7,
   "metadata": {},
   "outputs": [],
   "source": [
    "transition_matrix = np.array([[0, 1/3, 0], [0, 0, 1/3], [1/3, 0, 0]])"
   ]
  },
  {
   "cell_type": "code",
   "execution_count": 8,
   "metadata": {},
   "outputs": [],
   "source": [
    "NUM_SIMS = 100\n",
    "NUM_ITERS = 10000"
   ]
  },
  {
   "cell_type": "code",
   "execution_count": 9,
   "metadata": {},
   "outputs": [],
   "source": [
    "NUM_NODES = 3"
   ]
  },
  {
   "cell_type": "code",
   "execution_count": 10,
   "metadata": {},
   "outputs": [
    {
     "name": "stdout",
     "output_type": "stream",
     "text": [
      "Sim 050\n",
      "Sim 100\n"
     ]
    }
   ],
   "source": [
    "all_sims = []\n",
    "\n",
    "for i in range(NUM_SIMS):\n",
    "    if (i+1)%50 == 0:\n",
    "        print(f\"Sim {(i+1):03d}\")\n",
    "\n",
    "    state = initialise_cycle(NUM_NODES)\n",
    "\n",
    "    all_states = [state.copy()]\n",
    "    for i in range(NUM_ITERS):\n",
    "        # if (i+1)%1000 == 0:\n",
    "        #     print(f\"Iter {(i+1):05d}\")\n",
    "        (source, target) = sample_transition(transition_matrix)\n",
    "        soln = bfs(state, source, target)\n",
    "        if soln is None:\n",
    "            all_states.append(state.copy())\n",
    "        else:\n",
    "            new_state = do_transaction(state, soln)\n",
    "            all_states.append(new_state.copy())\n",
    "            state = new_state\n",
    "    \n",
    "    all_sims.append(all_states)"
   ]
  },
  {
   "cell_type": "code",
   "execution_count": 11,
   "metadata": {},
   "outputs": [],
   "source": [
    "vec_list = ['[1 1 1]',\n",
    "            '[0 2 1]',\n",
    "            '[2 1 0]',\n",
    "            '[1 0 2]',\n",
    "            '[2 0 1]',\n",
    "            '[0 1 2]',\n",
    "            '[1 2 0]']"
   ]
  },
  {
   "cell_type": "code",
   "execution_count": 12,
   "metadata": {},
   "outputs": [],
   "source": [
    "def get_cumprops(states):\n",
    "    gen_score_vecs = np.array([np.array_str(get_gen_score_vec(s)) for s in states])\n",
    "    vals = [(gen_score_vecs == v).astype(int) for v in vec_list]\n",
    "    cum_vals = [np.divide(np.cumsum(v), (range(1,NUM_ITERS+2))) for v in vals]\n",
    "    return cum_vals"
   ]
  },
  {
   "cell_type": "code",
   "execution_count": 13,
   "metadata": {},
   "outputs": [],
   "source": [
    "def make_long(cumprop, i):\n",
    "    df = pd.DataFrame(dict(zip(vec_list, cumprop)))\n",
    "    df[\"iter\"] = df.index\n",
    "    long = pd.melt(df, id_vars=\"iter\")\n",
    "    long[\"sim\"] = i\n",
    "    return long"
   ]
  },
  {
   "cell_type": "code",
   "execution_count": 14,
   "metadata": {},
   "outputs": [],
   "source": [
    "all_freqs = [get_cumprops(states) for states in all_sims]"
   ]
  },
  {
   "cell_type": "code",
   "execution_count": 15,
   "metadata": {},
   "outputs": [],
   "source": [
    "all_longs = pd.concat([make_long(cumprop, i) for (i, cumprop) in enumerate(all_freqs)])"
   ]
  },
  {
   "cell_type": "code",
   "execution_count": 16,
   "metadata": {},
   "outputs": [],
   "source": [
    "all_longs.to_csv(\"all_longs.csv\")"
   ]
  },
  {
   "cell_type": "code",
   "execution_count": 17,
   "metadata": {},
   "outputs": [],
   "source": [
    "def make_transition_matrix(size):\n",
    "    t_matrix = np.random.random((size, size))\n",
    "    np.fill_diagonal(t_matrix, 0)\n",
    "    return t_matrix / np.sum(t_matrix)"
   ]
  },
  {
   "cell_type": "code",
   "execution_count": 18,
   "metadata": {},
   "outputs": [],
   "source": [
    "def make_p_matrix(transition_matrix):\n",
    "    tm = transition_matrix\n",
    "    p_matrix = np.array([\n",
    "        [0, tm[1,0], tm[0,2], tm[2,1], tm[0,1], tm[1,2], tm[2,0]],\n",
    "        [tm[0,1], tm[1,0]+tm[1,2]+tm[2,0], 0, 0, 0, tm[2,1], tm[0,2]],\n",
    "        [tm[2,0], 0, tm[0,1]+tm[0,2]+tm[1,2], 0, tm[2,1], 0, tm[1,0]],\n",
    "        [tm[1,2], 0, 0, tm[0,1]+tm[2,0]+tm[2,1], tm[0,2], tm[1,0], 0],\n",
    "        [tm[1,0], 0, tm[1,2], tm[2,0], tm[0,1]+tm[0,2]+tm[2,1], 0, 0],\n",
    "        [tm[0,2], tm[1,2], 0, tm[0,1], 0, tm[1,0]+tm[2,0]+tm[2,1], 0],\n",
    "        [tm[2,1], tm[2,0], tm[0,1], 0, 0, 0, tm[0,2]+tm[1,2]+tm[1,0]]\n",
    "    ])\n",
    "    return p_matrix"
   ]
  },
  {
   "cell_type": "code",
   "execution_count": 19,
   "metadata": {},
   "outputs": [],
   "source": [
    "pm = make_p_matrix(make_transition_matrix(3))"
   ]
  },
  {
   "cell_type": "code",
   "execution_count": 20,
   "metadata": {},
   "outputs": [],
   "source": [
    "def get_distrib(pm):\n",
    "    eigval, eigvec = np.linalg.eig(pm.T)\n",
    "    unit_eig = abs(eigval - 1.) < 1e-14 # account for floating point errors\n",
    "    if (np.sum(unit_eig) != 1):\n",
    "        return None\n",
    "    vec = eigvec[:, unit_eig].real\n",
    "    return vec / np.sum(vec)"
   ]
  },
  {
   "cell_type": "code",
   "execution_count": 21,
   "metadata": {},
   "outputs": [],
   "source": [
    "NUM_SIMS = 200"
   ]
  },
  {
   "cell_type": "code",
   "execution_count": 22,
   "metadata": {},
   "outputs": [
    {
     "name": "stdout",
     "output_type": "stream",
     "text": [
      "Sim 050\n",
      "Sim 100\n",
      "Sim 150\n",
      "Sim 200\n"
     ]
    }
   ],
   "source": [
    "all_sims = []\n",
    "all_trans = []\n",
    "\n",
    "for i in range(NUM_SIMS):\n",
    "    if (i+1)%50 == 0:\n",
    "        print(f\"Sim {(i+1):03d}\")\n",
    "\n",
    "    state = initialise_cycle(NUM_NODES)\n",
    "    transition_matrix = make_transition_matrix(NUM_NODES)\n",
    "\n",
    "    all_states = [state.copy()]\n",
    "    all_trans.append(transition_matrix.copy())\n",
    "    for i in range(NUM_ITERS):\n",
    "        # if (i+1)%1000 == 0:\n",
    "        #     print(f\"Iter {(i+1):05d}\")\n",
    "        (source, target) = sample_transition(transition_matrix)\n",
    "        soln = bfs(state, source, target)\n",
    "        if soln is None:\n",
    "            all_states.append(state.copy())\n",
    "        else:\n",
    "            new_state = do_transaction(state, soln)\n",
    "            all_states.append(new_state.copy())\n",
    "            state = new_state\n",
    "    \n",
    "    all_sims.append(all_states)"
   ]
  },
  {
   "cell_type": "code",
   "execution_count": 23,
   "metadata": {},
   "outputs": [],
   "source": [
    "all_freqs = [get_cumprops(states) for states in all_sims]\n",
    "all_longs = pd.concat([make_long(cumprop, i) for (i, cumprop) in enumerate(all_freqs)])"
   ]
  },
  {
   "cell_type": "code",
   "execution_count": 24,
   "metadata": {},
   "outputs": [],
   "source": [
    "final_distribs = all_longs.loc[all_longs[\"iter\"] == 10000].copy()"
   ]
  },
  {
   "cell_type": "code",
   "execution_count": 25,
   "metadata": {},
   "outputs": [],
   "source": [
    "distribs = [get_distrib(make_p_matrix(tm)) for tm in all_trans]"
   ]
  },
  {
   "cell_type": "code",
   "execution_count": 26,
   "metadata": {},
   "outputs": [],
   "source": [
    "final_distribs[\"estimated\"] = np.concatenate(distribs)"
   ]
  },
  {
   "cell_type": "code",
   "execution_count": 27,
   "metadata": {},
   "outputs": [],
   "source": [
    "final_distribs.to_csv(\"final_distribs.csv\")"
   ]
  },
  {
   "cell_type": "code",
   "execution_count": 28,
   "metadata": {},
   "outputs": [],
   "source": [
    "def calc_symmetry(t_matrix):\n",
    "    t_sym = (t_matrix + t_matrix.T) / 2\n",
    "    t_anti = (t_matrix - t_matrix.T) / 2\n",
    "    norm_sym = np.linalg.norm(t_sym, ord=\"fro\")\n",
    "    norm_anti = np.linalg.norm(t_anti, ord=\"fro\")\n",
    "    return (norm_sym - norm_anti) / (norm_sym + norm_anti)\n"
   ]
  },
  {
   "cell_type": "code",
   "execution_count": 29,
   "metadata": {},
   "outputs": [
    {
     "data": {
      "text/plain": [
       "array([[0.        , 0.1556791 , 0.15195592],\n",
       "       [0.16529819, 0.        , 0.26518694],\n",
       "       [0.01418463, 0.24769522, 0.        ]])"
      ]
     },
     "execution_count": 29,
     "metadata": {},
     "output_type": "execute_result"
    }
   ],
   "source": [
    "transition_matrix"
   ]
  },
  {
   "cell_type": "code",
   "execution_count": 30,
   "metadata": {},
   "outputs": [],
   "source": [
    "symmetries = [calc_symmetry(tm) for tm in all_trans]"
   ]
  },
  {
   "cell_type": "code",
   "execution_count": 31,
   "metadata": {},
   "outputs": [
    {
     "data": {
      "text/plain": [
       "[0.31506798259528,\n",
       " 0.4509800077088282,\n",
       " 0.2989147593531458,\n",
       " 0.4677220468275161,\n",
       " 0.6731969304581639,\n",
       " 0.6333141409263889,\n",
       " 0.2976908151751545,\n",
       " 0.38828657130323896,\n",
       " 0.8287517095242319,\n",
       " 0.4618166479933317,\n",
       " 0.5540439984321982,\n",
       " 0.48765708794438795,\n",
       " 0.1622784277861656,\n",
       " 0.6296231567738102,\n",
       " 0.10792039442991402,\n",
       " 0.49479091670962805,\n",
       " 0.27743161599326005,\n",
       " 0.3880933215931853,\n",
       " 0.17554525585745465,\n",
       " 0.2578385838231851,\n",
       " 0.8370923744367464,\n",
       " 0.5007865814901167,\n",
       " 0.646404422792171,\n",
       " 0.3331155656215466,\n",
       " 0.14337816909718248,\n",
       " 0.6195436352935871,\n",
       " 0.4453402705047659,\n",
       " 0.9149349398996053,\n",
       " 0.682835997932818,\n",
       " 0.43310047507613,\n",
       " 0.23877332313264948,\n",
       " 0.4585166113701104,\n",
       " 0.6988866917908874,\n",
       " 0.32155115143990404,\n",
       " 0.48739876663405407,\n",
       " 0.449457800290104,\n",
       " 0.05222145651588973,\n",
       " 0.4612986117114183,\n",
       " 0.30477097883187565,\n",
       " 0.3211538083751845,\n",
       " 0.44038531379068097,\n",
       " 0.6062135441191678,\n",
       " 0.3882142365315734,\n",
       " 0.26127013682180106,\n",
       " 0.43718650867808817,\n",
       " 0.3843214341018378,\n",
       " 0.32759170842219537,\n",
       " 0.7168881784153688,\n",
       " 0.750889095422577,\n",
       " 0.5605552775947671,\n",
       " 0.23061264400024176,\n",
       " 0.34539399424685663,\n",
       " 0.5528759387009856,\n",
       " 0.3394364988372815,\n",
       " 0.20878735481420055,\n",
       " 0.574078954895591,\n",
       " 0.216155640517127,\n",
       " 0.19258758526563124,\n",
       " 0.527701283307646,\n",
       " 0.42932188087189493,\n",
       " 0.4930149921438329,\n",
       " 0.35335374300021016,\n",
       " 0.4845231052857904,\n",
       " 0.3523260284926321,\n",
       " 0.4089546931257417,\n",
       " 0.29721725564492146,\n",
       " 0.460277458555833,\n",
       " 0.5100856644437954,\n",
       " 0.5266194147003528,\n",
       " 0.03894467546068695,\n",
       " 0.41321767704466605,\n",
       " 0.40565045724152166,\n",
       " 0.6623087161874439,\n",
       " 0.502581569870408,\n",
       " 0.5356120172648481,\n",
       " 0.4973500442826265,\n",
       " 0.6070691668915611,\n",
       " 0.499597067213083,\n",
       " 0.4647263385164328,\n",
       " 0.44100585848767726,\n",
       " 0.6597459611873959,\n",
       " 0.7734726327257969,\n",
       " 0.354718634775093,\n",
       " 0.42013793048121123,\n",
       " 0.37475040347674854,\n",
       " 0.6802209836024501,\n",
       " 0.5587883237053766,\n",
       " 0.36483268305053285,\n",
       " 0.58522119313251,\n",
       " 0.3397974798458312,\n",
       " 0.6209208480864395,\n",
       " 0.27803856247701286,\n",
       " 0.5953660377196474,\n",
       " 0.3875907635794159,\n",
       " 0.5852006575465987,\n",
       " 0.7071269970882685,\n",
       " 0.6234992691215525,\n",
       " 0.7685537457299912,\n",
       " 0.4170414219613609,\n",
       " 0.361457598129321,\n",
       " 0.48299641627858825,\n",
       " 0.24428015594264965,\n",
       " 0.53778247396719,\n",
       " 0.09944740828921976,\n",
       " 0.7436636253152282,\n",
       " 0.6284928129718818,\n",
       " 0.690533391448554,\n",
       " 0.7700762479941147,\n",
       " 0.28269019812003443,\n",
       " 0.6541044952402979,\n",
       " 0.48058071147616177,\n",
       " 0.43331223845211503,\n",
       " 0.6357521556957388,\n",
       " 0.7911190312146267,\n",
       " 0.596137868285648,\n",
       " 0.39686064848427344,\n",
       " 0.48195544241731975,\n",
       " 0.4894099825081104,\n",
       " 0.33902586403085705,\n",
       " 0.2571547208438427,\n",
       " 0.6539454346807663,\n",
       " 0.3872980540173319,\n",
       " 0.3152941660038874,\n",
       " 0.4315904716117478,\n",
       " 0.6781651240155763,\n",
       " 0.4097499436767967,\n",
       " 0.46223431397991194,\n",
       " 0.8079980727679859,\n",
       " 0.6501966411596496,\n",
       " 0.5109244489324557,\n",
       " 0.4376878635793946,\n",
       " 0.5094839137362966,\n",
       " 0.7489867771874059,\n",
       " 0.5083649815900024,\n",
       " 0.5278970813884346,\n",
       " 0.17523022550174297,\n",
       " 0.5171126598288487,\n",
       " 0.27445577213430206,\n",
       " 0.4578046156013859,\n",
       " 0.386182434709218,\n",
       " 0.5267831798777273,\n",
       " 0.716977842915996,\n",
       " 0.6230133865699905,\n",
       " 0.6939122944962478,\n",
       " 0.36765791925320196,\n",
       " 0.5262382147026737,\n",
       " 0.38632557175201576,\n",
       " 0.3995738082269921,\n",
       " 0.4250252829094026,\n",
       " 0.4521138379443802,\n",
       " 0.4934913304454339,\n",
       " 0.4857850345138572,\n",
       " 0.557450972835783,\n",
       " 0.8443502040402147,\n",
       " 0.527825842839177,\n",
       " 0.28299870024549767,\n",
       " 0.8041591396679176,\n",
       " 0.4766851335950935,\n",
       " 0.3841184481911684,\n",
       " 0.1849519858458224,\n",
       " 0.3475699942750179,\n",
       " 0.6620924328016004,\n",
       " 0.3167321615019799,\n",
       " 0.5656905700490138,\n",
       " 0.16355181373386407,\n",
       " 0.5300625694120961,\n",
       " 0.5419016997335949,\n",
       " 0.7620535104186252,\n",
       " 0.4913426299761991,\n",
       " 0.4749911373232863,\n",
       " 0.20224021861317173,\n",
       " 0.35686444658071403,\n",
       " 0.28747513447771184,\n",
       " 0.24575233629846957,\n",
       " 0.5437940747158843,\n",
       " 0.7042837057992521,\n",
       " 0.06479807469887924,\n",
       " 0.4422578364674712,\n",
       " 0.4553833091291497,\n",
       " 0.5054828133358641,\n",
       " 0.27096968072146854,\n",
       " 0.8011886001995079,\n",
       " 0.3998890084300897,\n",
       " 0.484846045497342,\n",
       " 0.18330561003378415,\n",
       " 0.532932166611515,\n",
       " 0.44696100197562705,\n",
       " 0.4061532161132603,\n",
       " 0.674014753214756,\n",
       " 0.8309799815778262,\n",
       " 0.4175612791293351,\n",
       " 0.5125276172372496,\n",
       " 0.10687092159329967,\n",
       " 0.3846020751338326,\n",
       " 0.6376617473621607,\n",
       " 0.7450173875090046,\n",
       " 0.49858300677927675,\n",
       " 0.528352102529927,\n",
       " 0.5339066981621671,\n",
       " 0.6368342368404248]"
      ]
     },
     "execution_count": 31,
     "metadata": {},
     "output_type": "execute_result"
    }
   ],
   "source": [
    "symmetries"
   ]
  },
  {
   "cell_type": "code",
   "execution_count": 35,
   "metadata": {},
   "outputs": [],
   "source": [
    "rmse = final_distribs.groupby(\"sim\").apply(lambda x: np.sqrt(np.mean((x[\"value\"]-x[\"estimated\"])**2)))"
   ]
  },
  {
   "cell_type": "code",
   "execution_count": 39,
   "metadata": {},
   "outputs": [],
   "source": [
    "def calc_entropy(distrib):\n",
    "    return -1 * np.sum(distrib * np.log2(distrib))"
   ]
  },
  {
   "cell_type": "code",
   "execution_count": 42,
   "metadata": {},
   "outputs": [],
   "source": [
    "sim_metrics = final_distribs.groupby(\"sim\").agg({'value': calc_entropy, 'estimated': calc_entropy})"
   ]
  },
  {
   "cell_type": "code",
   "execution_count": 43,
   "metadata": {},
   "outputs": [],
   "source": [
    "sim_metrics[\"symmetry\"] = symmetries"
   ]
  },
  {
   "cell_type": "code",
   "execution_count": null,
   "metadata": {},
   "outputs": [],
   "source": [
    "sim_metrics.to_csv(\"sim_metrics.csv\")"
   ]
  }
 ],
 "metadata": {
  "kernelspec": {
   "display_name": "cs330hw0",
   "language": "python",
   "name": "python3"
  },
  "language_info": {
   "codemirror_mode": {
    "name": "ipython",
    "version": 3
   },
   "file_extension": ".py",
   "mimetype": "text/x-python",
   "name": "python",
   "nbconvert_exporter": "python",
   "pygments_lexer": "ipython3",
   "version": "3.10.6"
  }
 },
 "nbformat": 4,
 "nbformat_minor": 2
}
