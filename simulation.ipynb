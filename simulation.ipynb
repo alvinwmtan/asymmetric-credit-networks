{
 "cells": [
  {
   "cell_type": "code",
   "execution_count": 1,
   "metadata": {},
   "outputs": [],
   "source": [
    "%load_ext autoreload\n",
    "%autoreload 2"
   ]
  },
  {
   "cell_type": "code",
   "execution_count": 2,
   "metadata": {},
   "outputs": [],
   "source": [
    "import numpy as np\n",
    "import pandas as pd\n",
    "import random\n",
    "from collections import deque\n",
    "\n",
    "from network import *\n",
    "from evaluation import *\n",
    "\n",
    "random.seed(261)"
   ]
  },
  {
   "cell_type": "markdown",
   "metadata": {},
   "source": [
    "## Simulation 1\n",
    "3-cycle with specific transition matrix"
   ]
  },
  {
   "cell_type": "code",
   "execution_count": 3,
   "metadata": {},
   "outputs": [],
   "source": [
    "transition_matrix = np.array([[0, 1/3, 0], [0, 0, 1/3], [1/3, 0, 0]])"
   ]
  },
  {
   "cell_type": "code",
   "execution_count": 4,
   "metadata": {},
   "outputs": [],
   "source": [
    "NUM_NODES = 3\n",
    "NUM_SIMS = 100\n",
    "NUM_ITERS = 10000"
   ]
  },
  {
   "cell_type": "code",
   "execution_count": 5,
   "metadata": {},
   "outputs": [
    {
     "name": "stdout",
     "output_type": "stream",
     "text": [
      "Sim 050\n",
      "Sim 100\n"
     ]
    }
   ],
   "source": [
    "all_sims, _ = run_simulation(NUM_NODES, NUM_SIMS, NUM_ITERS, transition_matrix)"
   ]
  },
  {
   "cell_type": "code",
   "execution_count": 6,
   "metadata": {},
   "outputs": [],
   "source": [
    "vec_list_3 = [\n",
    "    '[1 1 1]',\n",
    "    '[0 2 1]',\n",
    "    '[2 1 0]',\n",
    "    '[1 0 2]',\n",
    "    '[2 0 1]',\n",
    "    '[0 1 2]',\n",
    "    '[1 2 0]']"
   ]
  },
  {
   "cell_type": "code",
   "execution_count": 7,
   "metadata": {},
   "outputs": [],
   "source": [
    "all_freqs = [get_cumprops(states, vec_list_3) for states in all_sims]\n",
    "all_longs = pd.concat([make_long(cumprop, i, vec_list_3) for (i, cumprop) in enumerate(all_freqs)])\n",
    "all_longs.to_csv(\"all_longs.csv\")"
   ]
  },
  {
   "cell_type": "markdown",
   "metadata": {},
   "source": [
    "## Simulation 2\n",
    "\n",
    "3-cycle with randomly generated transition matrices"
   ]
  },
  {
   "cell_type": "code",
   "execution_count": 8,
   "metadata": {},
   "outputs": [],
   "source": [
    "NUM_NODES = 3\n",
    "NUM_SIMS = 200\n",
    "NUM_ITERS = 10000"
   ]
  },
  {
   "cell_type": "code",
   "execution_count": 9,
   "metadata": {},
   "outputs": [
    {
     "name": "stdout",
     "output_type": "stream",
     "text": [
      "Sim 050\n",
      "Sim 100\n",
      "Sim 150\n",
      "Sim 200\n"
     ]
    }
   ],
   "source": [
    "all_sims, all_trans = run_simulation(NUM_NODES, NUM_SIMS, NUM_ITERS)"
   ]
  },
  {
   "cell_type": "code",
   "execution_count": 10,
   "metadata": {},
   "outputs": [],
   "source": [
    "all_freqs = [get_cumprops(states, vec_list_3) for states in all_sims]\n",
    "all_longs = pd.concat([make_long(cumprop, i, vec_list_3) for (i, cumprop) in enumerate(all_freqs)])"
   ]
  },
  {
   "cell_type": "code",
   "execution_count": 11,
   "metadata": {},
   "outputs": [],
   "source": [
    "final_distribs = all_longs.loc[all_longs[\"iter\"] == 10000].copy()\n",
    "final_distribs[\"estimated\"] = np.concatenate([get_distrib(make_p_matrix(tm)) for tm in all_trans])\n",
    "final_distribs.to_csv(\"final_distribs.csv\")"
   ]
  },
  {
   "cell_type": "code",
   "execution_count": 14,
   "metadata": {},
   "outputs": [],
   "source": [
    "sim_metrics = final_distribs.groupby(\"sim\").agg({'value': calc_entropy, 'estimated': calc_entropy})\n",
    "sim_metrics[\"rmse\"] = final_distribs.groupby(\"sim\").apply(lambda x: calc_rmse(x[\"value\"], x[\"estimated\"]))\n",
    "sim_metrics[\"symmetry\"] = [calc_symmetry(tm) for tm in all_trans]\n",
    "sim_metrics.to_csv(\"sim_metrics_3.csv\")"
   ]
  },
  {
   "cell_type": "markdown",
   "metadata": {},
   "source": [
    "## Simulation 3\n",
    "\n",
    "K5 with randomly generated transition matrices"
   ]
  },
  {
   "cell_type": "code",
   "execution_count": 15,
   "metadata": {},
   "outputs": [],
   "source": [
    "NUM_NODES = 5\n",
    "NUM_SIMS = 500\n",
    "NUM_ITERS = 10000"
   ]
  },
  {
   "cell_type": "code",
   "execution_count": 16,
   "metadata": {},
   "outputs": [
    {
     "name": "stdout",
     "output_type": "stream",
     "text": [
      "Sim 050\n",
      "Sim 100\n",
      "Sim 150\n",
      "Sim 200\n",
      "Sim 250\n",
      "Sim 300\n",
      "Sim 350\n",
      "Sim 400\n",
      "Sim 450\n",
      "Sim 500\n"
     ]
    }
   ],
   "source": [
    "all_sims, all_trans = run_simulation(NUM_NODES, NUM_SIMS, NUM_ITERS)"
   ]
  },
  {
   "cell_type": "code",
   "execution_count": 17,
   "metadata": {},
   "outputs": [],
   "source": [
    "vec_list_5 = np.load(\"k5_vecs.npy\")"
   ]
  },
  {
   "cell_type": "code",
   "execution_count": 18,
   "metadata": {},
   "outputs": [
    {
     "ename": "KeyboardInterrupt",
     "evalue": "",
     "output_type": "error",
     "traceback": [
      "\u001b[0;31m---------------------------------------------------------------------------\u001b[0m",
      "\u001b[0;31mKeyboardInterrupt\u001b[0m                         Traceback (most recent call last)",
      "\u001b[1;32m/Users/alvintan/Documents/01_PhD/03_CS/CS_261/asymmetric-credit-networks/simulation.ipynb Cell 19\u001b[0m line \u001b[0;36m2\n\u001b[1;32m      <a href='vscode-notebook-cell:/Users/alvintan/Documents/01_PhD/03_CS/CS_261/asymmetric-credit-networks/simulation.ipynb#Y120sZmlsZQ%3D%3D?line=0'>1</a>\u001b[0m all_freqs \u001b[39m=\u001b[39m [get_cumprops(states, vec_list_5) \u001b[39mfor\u001b[39;00m states \u001b[39min\u001b[39;00m all_sims]\n\u001b[0;32m----> <a href='vscode-notebook-cell:/Users/alvintan/Documents/01_PhD/03_CS/CS_261/asymmetric-credit-networks/simulation.ipynb#Y120sZmlsZQ%3D%3D?line=1'>2</a>\u001b[0m all_longs \u001b[39m=\u001b[39m pd\u001b[39m.\u001b[39mconcat([make_long(cumprop, i, vec_list_5) \u001b[39mfor\u001b[39;00m (i, cumprop) \u001b[39min\u001b[39;00m \u001b[39menumerate\u001b[39m(all_freqs)])\n",
      "\u001b[1;32m/Users/alvintan/Documents/01_PhD/03_CS/CS_261/asymmetric-credit-networks/simulation.ipynb Cell 19\u001b[0m line \u001b[0;36m2\n\u001b[1;32m      <a href='vscode-notebook-cell:/Users/alvintan/Documents/01_PhD/03_CS/CS_261/asymmetric-credit-networks/simulation.ipynb#Y120sZmlsZQ%3D%3D?line=0'>1</a>\u001b[0m all_freqs \u001b[39m=\u001b[39m [get_cumprops(states, vec_list_5) \u001b[39mfor\u001b[39;00m states \u001b[39min\u001b[39;00m all_sims]\n\u001b[0;32m----> <a href='vscode-notebook-cell:/Users/alvintan/Documents/01_PhD/03_CS/CS_261/asymmetric-credit-networks/simulation.ipynb#Y120sZmlsZQ%3D%3D?line=1'>2</a>\u001b[0m all_longs \u001b[39m=\u001b[39m pd\u001b[39m.\u001b[39mconcat([make_long(cumprop, i, vec_list_5) \u001b[39mfor\u001b[39;00m (i, cumprop) \u001b[39min\u001b[39;00m \u001b[39menumerate\u001b[39m(all_freqs)])\n",
      "File \u001b[0;32m~/Documents/01_PhD/03_CS/CS_261/asymmetric-credit-networks/evaluation.py:25\u001b[0m, in \u001b[0;36mmake_long\u001b[0;34m(cumprop, i, vec_list)\u001b[0m\n\u001b[1;32m     20\u001b[0m \u001b[39mdef\u001b[39;00m \u001b[39mmake_long\u001b[39m(cumprop, i, vec_list):\n\u001b[1;32m     21\u001b[0m     \u001b[39m\"\"\"\u001b[39;00m\n\u001b[1;32m     22\u001b[0m \u001b[39m    Helper function for tidying a list of cumulative proportions from\u001b[39;00m\n\u001b[1;32m     23\u001b[0m \u001b[39m    `cumprop` and assigning it the simulation number `i`.\u001b[39;00m\n\u001b[1;32m     24\u001b[0m \u001b[39m    \"\"\"\u001b[39;00m\n\u001b[0;32m---> 25\u001b[0m     df \u001b[39m=\u001b[39m pd\u001b[39m.\u001b[39;49mDataFrame(\u001b[39mdict\u001b[39;49m(\u001b[39mzip\u001b[39;49m(vec_list, cumprop)))\n\u001b[1;32m     26\u001b[0m     df[\u001b[39m\"\u001b[39m\u001b[39miter\u001b[39m\u001b[39m\"\u001b[39m] \u001b[39m=\u001b[39m df\u001b[39m.\u001b[39mindex\n\u001b[1;32m     27\u001b[0m     long \u001b[39m=\u001b[39m pd\u001b[39m.\u001b[39mmelt(df, id_vars\u001b[39m=\u001b[39m\u001b[39m\"\u001b[39m\u001b[39miter\u001b[39m\u001b[39m\"\u001b[39m)\n",
      "File \u001b[0;32m~/miniconda3/envs/cs330hw0/lib/python3.10/site-packages/pandas/core/frame.py:664\u001b[0m, in \u001b[0;36mDataFrame.__init__\u001b[0;34m(self, data, index, columns, dtype, copy)\u001b[0m\n\u001b[1;32m    658\u001b[0m     mgr \u001b[39m=\u001b[39m \u001b[39mself\u001b[39m\u001b[39m.\u001b[39m_init_mgr(\n\u001b[1;32m    659\u001b[0m         data, axes\u001b[39m=\u001b[39m{\u001b[39m\"\u001b[39m\u001b[39mindex\u001b[39m\u001b[39m\"\u001b[39m: index, \u001b[39m\"\u001b[39m\u001b[39mcolumns\u001b[39m\u001b[39m\"\u001b[39m: columns}, dtype\u001b[39m=\u001b[39mdtype, copy\u001b[39m=\u001b[39mcopy\n\u001b[1;32m    660\u001b[0m     )\n\u001b[1;32m    662\u001b[0m \u001b[39melif\u001b[39;00m \u001b[39misinstance\u001b[39m(data, \u001b[39mdict\u001b[39m):\n\u001b[1;32m    663\u001b[0m     \u001b[39m# GH#38939 de facto copy defaults to False only in non-dict cases\u001b[39;00m\n\u001b[0;32m--> 664\u001b[0m     mgr \u001b[39m=\u001b[39m dict_to_mgr(data, index, columns, dtype\u001b[39m=\u001b[39;49mdtype, copy\u001b[39m=\u001b[39;49mcopy, typ\u001b[39m=\u001b[39;49mmanager)\n\u001b[1;32m    665\u001b[0m \u001b[39melif\u001b[39;00m \u001b[39misinstance\u001b[39m(data, ma\u001b[39m.\u001b[39mMaskedArray):\n\u001b[1;32m    666\u001b[0m     \u001b[39mimport\u001b[39;00m \u001b[39mnumpy\u001b[39;00m\u001b[39m.\u001b[39;00m\u001b[39mma\u001b[39;00m\u001b[39m.\u001b[39;00m\u001b[39mmrecords\u001b[39;00m \u001b[39mas\u001b[39;00m \u001b[39mmrecords\u001b[39;00m\n",
      "File \u001b[0;32m~/miniconda3/envs/cs330hw0/lib/python3.10/site-packages/pandas/core/internals/construction.py:493\u001b[0m, in \u001b[0;36mdict_to_mgr\u001b[0;34m(data, index, columns, dtype, typ, copy)\u001b[0m\n\u001b[1;32m    489\u001b[0m     \u001b[39melse\u001b[39;00m:\n\u001b[1;32m    490\u001b[0m         \u001b[39m# dtype check to exclude e.g. range objects, scalars\u001b[39;00m\n\u001b[1;32m    491\u001b[0m         arrays \u001b[39m=\u001b[39m [x\u001b[39m.\u001b[39mcopy() \u001b[39mif\u001b[39;00m \u001b[39mhasattr\u001b[39m(x, \u001b[39m\"\u001b[39m\u001b[39mdtype\u001b[39m\u001b[39m\"\u001b[39m) \u001b[39melse\u001b[39;00m x \u001b[39mfor\u001b[39;00m x \u001b[39min\u001b[39;00m arrays]\n\u001b[0;32m--> 493\u001b[0m \u001b[39mreturn\u001b[39;00m arrays_to_mgr(arrays, columns, index, dtype\u001b[39m=\u001b[39;49mdtype, typ\u001b[39m=\u001b[39;49mtyp, consolidate\u001b[39m=\u001b[39;49mcopy)\n",
      "File \u001b[0;32m~/miniconda3/envs/cs330hw0/lib/python3.10/site-packages/pandas/core/internals/construction.py:154\u001b[0m, in \u001b[0;36marrays_to_mgr\u001b[0;34m(arrays, columns, index, dtype, verify_integrity, typ, consolidate)\u001b[0m\n\u001b[1;32m    151\u001b[0m axes \u001b[39m=\u001b[39m [columns, index]\n\u001b[1;32m    153\u001b[0m \u001b[39mif\u001b[39;00m typ \u001b[39m==\u001b[39m \u001b[39m\"\u001b[39m\u001b[39mblock\u001b[39m\u001b[39m\"\u001b[39m:\n\u001b[0;32m--> 154\u001b[0m     \u001b[39mreturn\u001b[39;00m create_block_manager_from_column_arrays(\n\u001b[1;32m    155\u001b[0m         arrays, axes, consolidate\u001b[39m=\u001b[39;49mconsolidate\n\u001b[1;32m    156\u001b[0m     )\n\u001b[1;32m    157\u001b[0m \u001b[39melif\u001b[39;00m typ \u001b[39m==\u001b[39m \u001b[39m\"\u001b[39m\u001b[39marray\u001b[39m\u001b[39m\"\u001b[39m:\n\u001b[1;32m    158\u001b[0m     \u001b[39mreturn\u001b[39;00m ArrayManager(arrays, [index, columns])\n",
      "File \u001b[0;32m~/miniconda3/envs/cs330hw0/lib/python3.10/site-packages/pandas/core/internals/managers.py:2199\u001b[0m, in \u001b[0;36mcreate_block_manager_from_column_arrays\u001b[0;34m(arrays, axes, consolidate)\u001b[0m\n\u001b[1;32m   2182\u001b[0m \u001b[39mdef\u001b[39;00m \u001b[39mcreate_block_manager_from_column_arrays\u001b[39m(\n\u001b[1;32m   2183\u001b[0m     arrays: \u001b[39mlist\u001b[39m[ArrayLike],\n\u001b[1;32m   2184\u001b[0m     axes: \u001b[39mlist\u001b[39m[Index],\n\u001b[0;32m   (...)\u001b[0m\n\u001b[1;32m   2195\u001b[0m     \u001b[39m# These last three are sufficient to allow us to safely pass\u001b[39;00m\n\u001b[1;32m   2196\u001b[0m     \u001b[39m#  verify_integrity=False below.\u001b[39;00m\n\u001b[1;32m   2198\u001b[0m     \u001b[39mtry\u001b[39;00m:\n\u001b[0;32m-> 2199\u001b[0m         blocks \u001b[39m=\u001b[39m _form_blocks(arrays, consolidate)\n\u001b[1;32m   2200\u001b[0m         mgr \u001b[39m=\u001b[39m BlockManager(blocks, axes, verify_integrity\u001b[39m=\u001b[39m\u001b[39mFalse\u001b[39;00m)\n\u001b[1;32m   2201\u001b[0m     \u001b[39mexcept\u001b[39;00m \u001b[39mValueError\u001b[39;00m \u001b[39mas\u001b[39;00m e:\n",
      "File \u001b[0;32m~/miniconda3/envs/cs330hw0/lib/python3.10/site-packages/pandas/core/internals/managers.py:2273\u001b[0m, in \u001b[0;36m_form_blocks\u001b[0;34m(arrays, consolidate)\u001b[0m\n\u001b[1;32m   2270\u001b[0m \u001b[39mif\u001b[39;00m \u001b[39missubclass\u001b[39m(dtype\u001b[39m.\u001b[39mtype, (\u001b[39mstr\u001b[39m, \u001b[39mbytes\u001b[39m)):\n\u001b[1;32m   2271\u001b[0m     dtype \u001b[39m=\u001b[39m np\u001b[39m.\u001b[39mdtype(\u001b[39mobject\u001b[39m)\n\u001b[0;32m-> 2273\u001b[0m values, placement \u001b[39m=\u001b[39m _stack_arrays(\u001b[39mlist\u001b[39;49m(tup_block), dtype)\n\u001b[1;32m   2274\u001b[0m \u001b[39mif\u001b[39;00m is_dtlike:\n\u001b[1;32m   2275\u001b[0m     values \u001b[39m=\u001b[39m ensure_wrapped_if_datetimelike(values)\n",
      "File \u001b[0;32m~/miniconda3/envs/cs330hw0/lib/python3.10/site-packages/pandas/core/internals/managers.py:2314\u001b[0m, in \u001b[0;36m_stack_arrays\u001b[0;34m(tuples, dtype)\u001b[0m\n\u001b[1;32m   2312\u001b[0m stacked \u001b[39m=\u001b[39m np\u001b[39m.\u001b[39mempty(shape, dtype\u001b[39m=\u001b[39mdtype)\n\u001b[1;32m   2313\u001b[0m \u001b[39mfor\u001b[39;00m i, arr \u001b[39min\u001b[39;00m \u001b[39menumerate\u001b[39m(arrays):\n\u001b[0;32m-> 2314\u001b[0m     stacked[i] \u001b[39m=\u001b[39m arr\n\u001b[1;32m   2316\u001b[0m \u001b[39mreturn\u001b[39;00m stacked, placement\n",
      "\u001b[0;31mKeyboardInterrupt\u001b[0m: "
     ]
    }
   ],
   "source": [
    "all_freqs = [get_cumprops(states, vec_list_5) for states in all_sims]\n",
    "all_longs = pd.concat([make_long(cumprop, i, vec_list_5) for (i, cumprop) in enumerate(all_freqs)])"
   ]
  },
  {
   "cell_type": "code",
   "execution_count": null,
   "metadata": {},
   "outputs": [],
   "source": [
    "final_distribs = all_longs.loc[all_longs[\"iter\"] == 10000].copy()"
   ]
  },
  {
   "cell_type": "code",
   "execution_count": null,
   "metadata": {},
   "outputs": [],
   "source": [
    "sim_metrics = final_distribs.groupby(\"sim\").agg({'value': calc_entropy})\n",
    "sim_metrics[\"symmetry\"] = [calc_symmetry(tm) for tm in all_trans]\n",
    "sim_metrics.to_csv(\"sim_metrics_5.csv\")"
   ]
  }
 ],
 "metadata": {
  "kernelspec": {
   "display_name": "cs330hw0",
   "language": "python",
   "name": "python3"
  },
  "language_info": {
   "codemirror_mode": {
    "name": "ipython",
    "version": 3
   },
   "file_extension": ".py",
   "mimetype": "text/x-python",
   "name": "python",
   "nbconvert_exporter": "python",
   "pygments_lexer": "ipython3",
   "version": "3.10.6"
  }
 },
 "nbformat": 4,
 "nbformat_minor": 2
}
