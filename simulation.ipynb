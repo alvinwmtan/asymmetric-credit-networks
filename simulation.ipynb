{
 "cells": [
  {
   "cell_type": "code",
   "execution_count": 1,
   "metadata": {},
   "outputs": [],
   "source": [
    "%load_ext autoreload\n",
    "%autoreload 2"
   ]
  },
  {
   "cell_type": "code",
   "execution_count": 2,
   "metadata": {},
   "outputs": [],
   "source": [
    "import numpy as np\n",
    "import pandas as pd\n",
    "import random\n",
    "from collections import deque\n",
    "\n",
    "from network import *\n",
    "from evaluation import *\n",
    "\n",
    "random.seed(261)"
   ]
  },
  {
   "cell_type": "markdown",
   "metadata": {},
   "source": [
    "## Simulation 1\n",
    "3-cycle with specific transition matrix"
   ]
  },
  {
   "cell_type": "code",
   "execution_count": 3,
   "metadata": {},
   "outputs": [],
   "source": [
    "transition_matrix = np.array([[0, 1/3, 0], [0, 0, 1/3], [1/3, 0, 0]])"
   ]
  },
  {
   "cell_type": "code",
   "execution_count": 4,
   "metadata": {},
   "outputs": [],
   "source": [
    "NUM_NODES = 3\n",
    "NUM_SIMS = 100\n",
    "NUM_ITERS = 10000"
   ]
  },
  {
   "cell_type": "code",
   "execution_count": 5,
   "metadata": {},
   "outputs": [
    {
     "name": "stdout",
     "output_type": "stream",
     "text": [
      "Sim 050\n",
      "Sim 100\n"
     ]
    }
   ],
   "source": [
    "all_sims, _ = run_simulation(NUM_NODES, NUM_SIMS, NUM_ITERS, transition_matrix)"
   ]
  },
  {
   "cell_type": "code",
   "execution_count": 6,
   "metadata": {},
   "outputs": [],
   "source": [
    "vec_list_3 = [\n",
    "    '[1 1 1]',\n",
    "    '[0 2 1]',\n",
    "    '[2 1 0]',\n",
    "    '[1 0 2]',\n",
    "    '[2 0 1]',\n",
    "    '[0 1 2]',\n",
    "    '[1 2 0]']"
   ]
  },
  {
   "cell_type": "code",
   "execution_count": 7,
   "metadata": {},
   "outputs": [],
   "source": [
    "all_freqs = [get_cumprops(states, vec_list_3) for states in all_sims]\n",
    "all_longs = pd.concat([make_long(cumprop, i, vec_list_3) for (i, cumprop) in enumerate(all_freqs)])\n",
    "all_longs.to_csv(\"all_longs.csv\")"
   ]
  },
  {
   "cell_type": "markdown",
   "metadata": {},
   "source": [
    "## Simulation 2\n",
    "\n",
    "3-cycle with randomly generated transition matrices"
   ]
  },
  {
   "cell_type": "code",
   "execution_count": 8,
   "metadata": {},
   "outputs": [],
   "source": [
    "NUM_NODES = 3\n",
    "NUM_SIMS = 200\n",
    "NUM_ITERS = 10000"
   ]
  },
  {
   "cell_type": "code",
   "execution_count": 9,
   "metadata": {},
   "outputs": [
    {
     "name": "stdout",
     "output_type": "stream",
     "text": [
      "Sim 050\n",
      "Sim 100\n",
      "Sim 150\n",
      "Sim 200\n"
     ]
    }
   ],
   "source": [
    "all_sims, all_trans = run_simulation(NUM_NODES, NUM_SIMS, NUM_ITERS)"
   ]
  },
  {
   "cell_type": "code",
   "execution_count": 10,
   "metadata": {},
   "outputs": [],
   "source": [
    "all_freqs = [get_cumprops(states, vec_list_3) for states in all_sims]\n",
    "all_longs = pd.concat([make_long(cumprop, i, vec_list_3) for (i, cumprop) in enumerate(all_freqs)])"
   ]
  },
  {
   "cell_type": "code",
   "execution_count": 11,
   "metadata": {},
   "outputs": [],
   "source": [
    "final_distribs = all_longs.loc[all_longs[\"iter\"] == NUM_ITERS].copy()\n",
    "final_distribs[\"estimated\"] = np.concatenate([get_distrib(make_p_matrix(tm)) for tm in all_trans])\n",
    "final_distribs.to_csv(\"final_distribs.csv\")"
   ]
  },
  {
   "cell_type": "code",
   "execution_count": 12,
   "metadata": {},
   "outputs": [],
   "source": [
    "sim_metrics = final_distribs.groupby(\"sim\").agg({'value': calc_entropy, 'estimated': calc_entropy})\n",
    "sim_metrics[\"rmse\"] = final_distribs.groupby(\"sim\").apply(lambda x: calc_rmse(x[\"value\"], x[\"estimated\"]))\n",
    "sim_metrics[\"symmetry\"] = [calc_symmetry(tm) for tm in all_trans]\n",
    "sim_metrics.to_csv(\"sim_metrics_3.csv\")"
   ]
  },
  {
   "cell_type": "markdown",
   "metadata": {},
   "source": [
    "## Simulation 3\n",
    "\n",
    "K5 with randomly generated transition matrices"
   ]
  },
  {
   "cell_type": "code",
   "execution_count": 13,
   "metadata": {},
   "outputs": [],
   "source": [
    "NUM_NODES = 5\n",
    "NUM_SIMS = 500\n",
    "NUM_ITERS = 5000"
   ]
  },
  {
   "cell_type": "code",
   "execution_count": 14,
   "metadata": {},
   "outputs": [
    {
     "name": "stdout",
     "output_type": "stream",
     "text": [
      "Sim 050\n",
      "Sim 100\n",
      "Sim 150\n",
      "Sim 200\n",
      "Sim 250\n",
      "Sim 300\n",
      "Sim 350\n",
      "Sim 400\n",
      "Sim 450\n",
      "Sim 500\n"
     ]
    }
   ],
   "source": [
    "all_sims, all_trans = run_simulation(NUM_NODES, NUM_SIMS, NUM_ITERS)"
   ]
  },
  {
   "cell_type": "code",
   "execution_count": 15,
   "metadata": {},
   "outputs": [],
   "source": [
    "vec_list_5 = np.load(\"k5_vecs.npy\")"
   ]
  },
  {
   "cell_type": "code",
   "execution_count": 16,
   "metadata": {},
   "outputs": [],
   "source": [
    "all_freqs = [get_cumprops(states, vec_list_5) for states in all_sims]\n",
    "all_longs = pd.concat([make_long(cumprop, i, vec_list_5) for (i, cumprop) in enumerate(all_freqs)])"
   ]
  },
  {
   "cell_type": "code",
   "execution_count": 19,
   "metadata": {},
   "outputs": [],
   "source": [
    "final_distribs = all_longs.loc[all_longs[\"iter\"] == NUM_ITERS].copy()"
   ]
  },
  {
   "cell_type": "code",
   "execution_count": 20,
   "metadata": {},
   "outputs": [
    {
     "name": "stderr",
     "output_type": "stream",
     "text": [
      "/Users/alvintan/miniconda3/envs/cs330hw0/lib/python3.10/site-packages/pandas/core/arraylike.py:402: RuntimeWarning: divide by zero encountered in log2\n",
      "  result = getattr(ufunc, method)(*inputs, **kwargs)\n"
     ]
    }
   ],
   "source": [
    "sim_metrics = final_distribs.groupby(\"sim\").agg({'value': calc_entropy})\n",
    "sim_metrics[\"symmetry\"] = [calc_symmetry(tm) for tm in all_trans]\n",
    "sim_metrics.to_csv(\"sim_metrics_5.csv\")"
   ]
  }
 ],
 "metadata": {
  "kernelspec": {
   "display_name": "cs330hw0",
   "language": "python",
   "name": "python3"
  },
  "language_info": {
   "codemirror_mode": {
    "name": "ipython",
    "version": 3
   },
   "file_extension": ".py",
   "mimetype": "text/x-python",
   "name": "python",
   "nbconvert_exporter": "python",
   "pygments_lexer": "ipython3",
   "version": "3.10.6"
  }
 },
 "nbformat": 4,
 "nbformat_minor": 2
}
